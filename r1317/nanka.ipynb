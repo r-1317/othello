{
 "cells": [
  {
   "cell_type": "code",
   "execution_count": 2,
   "metadata": {},
   "outputs": [
    {
     "name": "stdout",
     "output_type": "stream",
     "text": [
      "-1 -1 -1 -1 -1 -1 -1 -1\n",
      "-1 -1 -1 -1 -1 -1 -1 -1\n",
      "-1 -1 -1 -1 -1 -1 -1 -1\n",
      "-1 -1 -1 1 0 -1 -1 -1\n",
      "-1 -1 -1 0 1 -1 -1 -1\n",
      "-1 -1 -1 -1 -1 -1 -1 -1\n",
      "-1 -1 -1 -1 -1 -1 -1 -1\n",
      "-1 -1 -1 -1 -1 -1 -1 -1\n",
      "\n"
     ]
    }
   ],
   "source": [
    "board = [\n",
    "[-1, -1, -1, -1, -1, -1, -1, -1], \n",
    "[-1, -1, -1, -1, -1, -1, -1, -1], \n",
    "[-1, -1, -1, -1, -1, -1, -1, -1],\n",
    "[-1, -1, -1,  1,  0, -1, -1, -1],\n",
    "[-1, -1, -1,  0,  1, -1, -1, -1],\n",
    "[-1, -1, -1, -1, -1, -1, -1, -1], \n",
    "[-1, -1, -1, -1, -1, -1, -1, -1], \n",
    "[-1, -1, -1, -1, -1, -1, -1, -1]\n",
    "]\n",
    "\n",
    "for row in board:\n",
    "  print(*row)\n",
    "print()"
   ]
  },
  {
   "cell_type": "code",
   "execution_count": 2,
   "metadata": {},
   "outputs": [
    {
     "name": "stdout",
     "output_type": "stream",
     "text": [
      "bioboard71.0\n",
      "従来: 68.15\n"
     ]
    }
   ],
   "source": [
    "arr1 = list(map(int, input().split()))\n",
    "arr2 = list(map(int, input().split()))\n",
    "\n",
    "print(f\"bioboard{sum(arr1)/len(arr1)}\")\n",
    "print(f\"従来: {sum(arr2)/len(arr2)}\")"
   ]
  }
 ],
 "metadata": {
  "kernelspec": {
   "display_name": ".venv",
   "language": "python",
   "name": "python3"
  },
  "language_info": {
   "codemirror_mode": {
    "name": "ipython",
    "version": 3
   },
   "file_extension": ".py",
   "mimetype": "text/x-python",
   "name": "python",
   "nbconvert_exporter": "python",
   "pygments_lexer": "ipython3",
   "version": "3.10.12"
  }
 },
 "nbformat": 4,
 "nbformat_minor": 2
}
