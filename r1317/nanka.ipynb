{
 "cells": [
  {
   "cell_type": "code",
   "execution_count": 2,
   "metadata": {},
   "outputs": [
    {
     "name": "stdout",
     "output_type": "stream",
     "text": [
      "-1 -1 -1 -1 -1 -1 -1 -1\n",
      "-1 -1 -1 -1 -1 -1 -1 -1\n",
      "-1 -1 -1 -1 -1 -1 -1 -1\n",
      "-1 -1 -1 1 0 -1 -1 -1\n",
      "-1 -1 -1 0 1 -1 -1 -1\n",
      "-1 -1 -1 -1 -1 -1 -1 -1\n",
      "-1 -1 -1 -1 -1 -1 -1 -1\n",
      "-1 -1 -1 -1 -1 -1 -1 -1\n",
      "\n"
     ]
    }
   ],
   "source": [
    "board = [\n",
    "[-1, -1, -1, -1, -1, -1, -1, -1], \n",
    "[-1, -1, -1, -1, -1, -1, -1, -1], \n",
    "[-1, -1, -1, -1, -1, -1, -1, -1],\n",
    "[-1, -1, -1,  1,  0, -1, -1, -1],\n",
    "[-1, -1, -1,  0,  1, -1, -1, -1],\n",
    "[-1, -1, -1, -1, -1, -1, -1, -1], \n",
    "[-1, -1, -1, -1, -1, -1, -1, -1], \n",
    "[-1, -1, -1, -1, -1, -1, -1, -1]\n",
    "]\n",
    "\n",
    "for row in board:\n",
    "  print(*row)\n",
    "print()"
   ]
  },
  {
   "cell_type": "code",
   "execution_count": 1,
   "metadata": {},
   "outputs": [
    {
     "name": "stdout",
     "output_type": "stream",
     "text": [
      "旧: 9.20\n"
     ]
    }
   ],
   "source": [
    "arr1 = list(map(float, input().split()))\n",
    "# arr2 = list(map(float, input().split()))\n",
    "\n",
    "print(f\"旧: {sum(arr1)/len(arr1):.2f}\")\n",
    "# print(f\"新: {sum(arr2)/len(arr2):.2f}\")"
   ]
  }
 ],
 "metadata": {
  "kernelspec": {
   "display_name": ".venv",
   "language": "python",
   "name": "python3"
  },
  "language_info": {
   "codemirror_mode": {
    "name": "ipython",
    "version": 3
   },
   "file_extension": ".py",
   "mimetype": "text/x-python",
   "name": "python",
   "nbconvert_exporter": "python",
   "pygments_lexer": "ipython3",
   "version": "3.10.12"
  }
 },
 "nbformat": 4,
 "nbformat_minor": 2
}
